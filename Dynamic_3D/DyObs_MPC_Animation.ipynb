{
 "cells": [
  {
   "cell_type": "markdown",
   "metadata": {},
   "source": [
    "### Import"
   ]
  },
  {
   "cell_type": "code",
   "execution_count": null,
   "metadata": {},
   "outputs": [],
   "source": [
    "# Libraries\n",
    "import numpy as np\n",
    "import casadi as ca\n",
    "import matplotlib.pyplot as plt\n",
    "from matplotlib.animation import FuncAnimation, FFMpegWriter\n",
    "from IPython.display import HTML\n",
    "from mpl_toolkits.mplot3d import Axes3D\n",
    "\n",
    "# Files\n",
    "from vehicle import *\n",
    "from plotting import *\n",
    "from simulate import *\n",
    "from mpc import *\n",
    "from global_path_planning import *\n",
    "from obstacles import *\n",
    " "
   ]
  },
  {
   "cell_type": "markdown",
   "metadata": {},
   "source": [
    "### Simulation Input Parameters"
   ]
  },
  {
   "cell_type": "code",
   "execution_count": null,
   "metadata": {},
   "outputs": [],
   "source": [
    "#### MPC Properties\n",
    "dt = 1                  # Time step [s]\n",
    "N = 10                  # Time Horizon\n",
    "\n",
    "####  Simulation/Problem Parameters\n",
    "pos_constraints = [0, 20, 0, 50, 0, 20]         # Position Constraints [m]:    [x_min, x_max, y_min, y_max, z_min, z_max\t]\n",
    "x_init = [10, 2, 2, 0, 0, 0]          # Initial State: [x, y, z, x_dot, y_dot, z_dot]\n",
    "x_target_last = [10, 48, 2, 0, 0, 0]      # Target State: [x, y, z, x_dot, y_dot, z_dot]\n",
    "T = 150                                   # Simulation time [s]\n",
    "\n",
    "#### Drone Velocity & Acceleration Constraints\n",
    "vel_constraints = [-1, 1, -1, 1, -1, 1]         # Velocity Constraints [m/s]:  [x_min, x_max, y_min, y_max, z_min, z_max] \n",
    "acc_constraints = [-10, 10, -10, 10, -10, 10]         # Acceleration Constraints [m/s^2]:    [x_min, x_max, y_min, y_max, z_min, z_max]\n",
    "\n",
    "#### Obstacles\n",
    "static_cost = 200\n",
    "dynamic_cost = 400\n",
    "\n",
    "waypoint_radius = 5\n"
   ]
  },
  {
   "cell_type": "code",
   "execution_count": null,
   "metadata": {},
   "outputs": [],
   "source": [
    "#### OBSTACLE DEFINITION \n",
    "\n",
    "## Vertical Obstacles\n",
    "V_obstacles = [[10, 20, 4], [18, 30, 3], [7, 40, 5]]         # [center_x, center_y, radius]\n",
    "V_move_obstacles = [[20, 40, -0.7, 0, 5], [17, 0, 0, 1, 5]]  # [center_x, center_y, vel_x, vel_y, radius]\n",
    "\n",
    "H_obstacles = []         # [center_x, center_y, radius]\n",
    "H_move_obstacles = []  # [center_x, center_y, vel_x, vel_y, radius]\n",
    "\n",
    "obstacles = []\n",
    "move_obstacles = []\n",
    "\n",
    "# Class Creation\n",
    "for V_obstacle in V_obstacles:\n",
    "    obstacles.append(CylinderVertical(V_obstacle[0], V_obstacle[1], V_obstacle[2], static_cost))\n",
    "\n",
    "for H_obstacle in H_obstacles:\n",
    "    obstacles.append(CylinderHorizontal(H_obstacle[0], H_obstacle[1], H_obstacle[2], static_cost))\n",
    "\n",
    "for V_move_obstacle in V_move_obstacles:\n",
    "    move_obstacles.append(CylinderVertical(V_move_obstacle[0], V_move_obstacle[1], V_move_obstacle[4], dynamic_cost, V_move_obstacle[2:4]))\n",
    "\n",
    "for H_move_obstacle in V_move_obstacles:\n",
    "    move_obstacles.append(CylinderHorizontal(H_move_obstacle[0], H_move_obstacle[1], H_move_obstacle[4], dynamic_cost, H_move_obstacle[2], H_move_obstacle[3]))\n"
   ]
  },
  {
   "cell_type": "code",
   "execution_count": null,
   "metadata": {},
   "outputs": [],
   "source": [
    "# Run RRT*\n",
    "#get global a_star path and visualize\n",
    "World = World_3D([pos_constraints[0], pos_constraints[1]], [pos_constraints[2], pos_constraints[3]], [pos_constraints[4], pos_constraints[5]], obstacles,  obstacle_margin=0)\n",
    "World.plot()\n",
    "\n",
    "start = x_init[:3]\n",
    "goal = x_target_last[:3]\n",
    "\n",
    "print(\"RRT*\")\n",
    "#path_rrt = rrt_star(World, start, goal, radius=10, max_iter=10000)\n",
    "#path_rrt.plot()\n"
   ]
  },
  {
   "cell_type": "code",
   "execution_count": null,
   "metadata": {},
   "outputs": [],
   "source": [
    "# Plot the static Obstacles\n",
    "plot_static_obstacles(obstacles[0], pos_constraints, x_init, x_target_last)"
   ]
  },
  {
   "cell_type": "code",
   "execution_count": null,
   "metadata": {},
   "outputs": [],
   "source": [
    "# Setup vehichle & controller then Simulate\n",
    "vehicle = vehicle_SS(dt)\n",
    "controller = lambda x_init, current_wp, move_obstacles : mpc_control(vehicle, N, x_init, current_wp, pos_constraints, vel_constraints, acc_constraints, obstacles, move_obstacles)\n",
    "states, inputs, plans, timesteps, target_state = simulate(dt, T, x_init, N, controller, move_obstacles, path_rrt, waypoint_radius, num_states=len(x_init), num_inputs=2)"
   ]
  },
  {
   "cell_type": "code",
   "execution_count": null,
   "metadata": {},
   "outputs": [],
   "source": [
    "# def update(frame):\n",
    "#     # Clear previous frame\n",
    "#     plt.cla()\n",
    "\n",
    "#     move_obstacles_update = MovingObstacleConvert(move_obstacles, frame, dt)\n",
    "    \n",
    "#     # Plot Path for current state\n",
    "#     plt.scatter(plans[0][:, frame], plans[1][:, frame], c='g', s=20, label = \"Planned Trajectory\")\n",
    "\n",
    "#     # Plot current state\n",
    "#     drone = plt.Circle((target_state[0][frame], target_state[1][frame]), 0.7, color='b', fill=True, label = \"Target Point\")\n",
    "#     plt.gca().add_patch(drone)\n",
    "\n",
    "#     drone = plt.Circle((states[0][frame], states[1][frame]), 0.7, color='r', fill=True, label = \"Drone\")\n",
    "#     plt.gca().add_patch(drone)\n",
    "    \n",
    "#     for obstacle in obstacles:\n",
    "#         circle = plt.Circle((obstacle[0], obstacle[1]), obstacle[2], color='k', fill=False)\n",
    "#         plt.gca().add_patch(circle) \n",
    "\n",
    "#     for obstacle in move_obstacles_update:\n",
    "#         circle = plt.Circle((obstacle[0], obstacle[1]), obstacle[2], color='k', fill=False)\n",
    "#         plt.gca().add_patch(circle) \n",
    "\n",
    "#     # Env Boundaries\n",
    "#     x = pos_constraints[0]\n",
    "#     y = pos_constraints[2]\n",
    "#     width = pos_constraints[1]-x\n",
    "#     height = pos_constraints[3]-x\n",
    "#     rectangle = patches.Rectangle((x, y), width, height, edgecolor='red', facecolor='none')\n",
    "#     plt.gca().add_patch(rectangle)\n",
    "\n",
    "#     plt.legend()\n",
    "#     plt.title(f'Time Step {frame + 1}/{len(states[1])}')  # Set title for each frame\n",
    "#     plt.xlabel('X-axis')\n",
    "#     plt.ylabel('Y-axis')\n",
    "#     plt.xlim(0, 50)\n",
    "#     plt.ylim(0, 50)\n",
    "#     plt.grid()\n",
    "\n",
    "# Create the animation\n",
    "fig = plt.figure()\n",
    "ani = FuncAnimation(fig, update, frames=len(states[1]), interval=100)\n",
    "\n",
    "# Display the animation within the Jupyter Notebook using HTML\n",
    "HTML(ani.to_jshtml())\n"
   ]
  }
 ],
 "metadata": {
  "kernelspec": {
   "display_name": "TF2",
   "language": "python",
   "name": "python3"
  },
  "language_info": {
   "codemirror_mode": {
    "name": "ipython",
    "version": 3
   },
   "file_extension": ".py",
   "mimetype": "text/x-python",
   "name": "python",
   "nbconvert_exporter": "python",
   "pygments_lexer": "ipython3",
   "version": "3.9.18"
  }
 },
 "nbformat": 4,
 "nbformat_minor": 2
}
