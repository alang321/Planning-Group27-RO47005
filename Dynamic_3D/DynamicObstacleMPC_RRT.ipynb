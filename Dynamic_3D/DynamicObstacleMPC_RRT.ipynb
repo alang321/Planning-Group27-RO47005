{
 "cells": [
  {
   "cell_type": "markdown",
   "metadata": {},
   "source": [
    "### Import"
   ]
  },
  {
   "cell_type": "code",
   "execution_count": null,
   "metadata": {},
   "outputs": [],
   "source": [
    "# Libraries\n",
    "import numpy as np\n",
    "import casadi as ca\n",
    "import matplotlib.pyplot as plt\n",
    "from matplotlib.animation import FuncAnimation, FFMpegWriter\n",
    "from IPython.display import HTML\n",
    "from mpl_toolkits.mplot3d import Axes3D\n",
    "\n",
    "# Files\n",
    "from vehicle import *\n",
    "from plotting import *\n",
    "from simulate import *\n",
    "from mpc import *\n",
    "from global_path_planning import *\n",
    "from obstacles import *\n"
   ]
  },
  {
   "cell_type": "markdown",
   "metadata": {},
   "source": [
    "### Simulation Input Parameters"
   ]
  },
  {
   "cell_type": "code",
   "execution_count": null,
   "metadata": {},
   "outputs": [],
   "source": [
    "#### MPC Properties\n",
    "dt = 1                  # Time step [s]\n",
    "N = 20                 # Time Horizon\n",
    "\n",
    "####  Simulation/Problem Parameters\n",
    "pos_constraints = [0, 20, 0, 50, 0, 20]         # Position Constraints [m]:    [x_min, x_max, y_min, y_max, z_min, z_max\t]\n",
    "x_init = [10, 2, 2, 0, 0, 0]          # Initial State: [x, y, z, x_dot, y_dot, z_dot]\n",
    "x_target_last = [10, 48, 2, 0, 0, 0]      # Target State: [x, y, z, x_dot, y_dot, z_dot]\n",
    "T = 75                                   # Simulation time [s]\n",
    "\n",
    "#### Drone Velocity & Acceleration Constraints\n",
    "vel_constraints = [-1, 1, -1, 1, -1, 1]         # Velocity Constraints [m/s]:  [x_min, x_max, y_min, y_max, z_min, z_max] \n",
    "acc_constraints = [-10, 10, -10, 10, -10, 10]         # Acceleration Constraints [m/s^2]:    [x_min, x_max, y_min, y_max, z_min, z_max]\n",
    "\n",
    "#### Obstacles\n",
    "static_cost = 300\n",
    "dynamic_cost = 400\n",
    "\n",
    "#### Waypoint Radius Threshold\n",
    "waypoint_radius = 3\n"
   ]
  },
  {
   "cell_type": "code",
   "execution_count": null,
   "metadata": {},
   "outputs": [],
   "source": [
    "#### Obstacle Definition and Initialization\n",
    "\n",
    "## Define Obstacles\n",
    "V_obstacles = [[10, 20, 4], [18, 30, 3], [7, 40, 5]]\n",
    "V_move_obstacles = [[20, 40, -0.7, 0, 4], [17, 0, 0, 1, 4], [0, 0, 1, 1, 2]]  # [center_x, center_y, vel_x, vel_y, radius]\n",
    "H_obstacles = []         # [center_x, center_y, radius]\n",
    "H_move_obstacles = []  # [center_x, center_y, vel_x, vel_y, radius]\n",
    "\n",
    "## Initialize Obstacles\n",
    "obstacles, move_obstacles = init_obstacles(V_obstacles, V_move_obstacles, H_obstacles, H_move_obstacles, static_cost, dynamic_cost)"
   ]
  },
  {
   "cell_type": "code",
   "execution_count": null,
   "metadata": {},
   "outputs": [],
   "source": [
    "# Create Static World\n",
    "World = World_3D([pos_constraints[0], pos_constraints[1]], [pos_constraints[2], pos_constraints[3]], [pos_constraints[4], pos_constraints[5]], obstacles, move_obstacles, obstacle_margin=0.5)\n",
    "World.plot()\n",
    "\n",
    "# Run RRT* to find a path\n",
    "path_rrt = rrt_star(World, x_init[:3], x_target_last[:3], radius=15, max_iter=500)\n"
   ]
  },
  {
   "cell_type": "code",
   "execution_count": null,
   "metadata": {},
   "outputs": [],
   "source": [
    "%%capture\n",
    "# Setup Controller and Simulate\n",
    "vehicle = vehicle_SS(dt)\n",
    "controller = lambda x_init, current_wp, last_plan : mpc_control(vehicle, N, x_init, current_wp, pos_constraints, vel_constraints, acc_constraints, last_plan, obstacles, move_obstacles)\n",
    "states, inputs, plans, timesteps, target_state = simulate(dt, T, x_init, x_target_last, N, controller, move_obstacles, path_rrt, waypoint_radius, num_states=6, num_inputs=3)"
   ]
  },
  {
   "cell_type": "code",
   "execution_count": null,
   "metadata": {},
   "outputs": [],
   "source": [
    "## Plot Simulation\n",
    "obstacles, move_obstacles = init_obstacles(V_obstacles, V_move_obstacles, H_obstacles, H_move_obstacles, static_cost, dynamic_cost)\n",
    "\n",
    "def update(frame):\n",
    "    # Clear previous frame\n",
    "    plt.cla()\n",
    "\n",
    "    # Plot Path for current state\n",
    "    plt.scatter(plans[0][:, frame], plans[1][:, frame], c='g', s=20, label = \"Planned Trajectory\")\n",
    "\n",
    "    # Plot current state\n",
    "    TargetPoint = plt.Circle((target_state[0][frame], target_state[1][frame]), 0.7, color='b', fill=True, label = \"Target Point\")\n",
    "    plt.gca().add_patch(TargetPoint)\n",
    "\n",
    "    drone = plt.Circle((states[0][frame], states[1][frame]), 0.7, color='r', fill=True, label = \"Drone\")\n",
    "    plt.gca().add_patch(drone)\n",
    "    \n",
    "    MovingObstacleConvert(move_obstacles, dt)\n",
    "\n",
    "    # Plot Environment\n",
    "    World.plot2d_ax(plt.gca())\n",
    "\n",
    "    for move_obstacle in move_obstacles:\n",
    "        move_obstacle.plot_xy(plt.gca(), 'red')\n",
    "\n",
    "    # Env Boundaries\n",
    "    x = pos_constraints[0]\n",
    "    y = pos_constraints[2]\n",
    "    width = pos_constraints[1]-x\n",
    "    height = pos_constraints[3]-x\n",
    "    rectangle = patches.Rectangle((x, y), width, height, edgecolor='red', facecolor='none')\n",
    "    plt.gca().add_patch(rectangle)\n",
    "\n",
    "    plt.legend()\n",
    "    plt.title(f'Time Step {frame + 1}/{len(states[1])}')  # Set title for each frame\n",
    "    plt.xlabel('X-axis')\n",
    "    plt.ylabel('Y-axis')\n",
    "    plt.xlim(0, 50)\n",
    "    plt.ylim(0, 50)\n",
    "    plt.grid()\n",
    "\n",
    "# Create the animation\n",
    "fig = plt.figure()\n",
    "ani = FuncAnimation(fig, update, frames=len(states[1]), interval=100)\n",
    "\n",
    "# Display the animation within the Jupyter Notebook using HTML\n",
    "HTML(ani.to_jshtml())\n"
   ]
  }
 ],
 "metadata": {
  "kernelspec": {
   "display_name": "TF2",
   "language": "python",
   "name": "python3"
  },
  "language_info": {
   "codemirror_mode": {
    "name": "ipython",
    "version": 3
   },
   "file_extension": ".py",
   "mimetype": "text/x-python",
   "name": "python",
   "nbconvert_exporter": "python",
   "pygments_lexer": "ipython3",
   "version": "3.9.18"
  }
 },
 "nbformat": 4,
 "nbformat_minor": 2
}
