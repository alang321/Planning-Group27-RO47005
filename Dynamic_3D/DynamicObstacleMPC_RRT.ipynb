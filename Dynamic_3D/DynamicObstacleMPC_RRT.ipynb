{
 "cells": [
  {
   "cell_type": "markdown",
   "metadata": {},
   "source": [
    "### Import"
   ]
  },
  {
   "cell_type": "code",
   "execution_count": null,
   "metadata": {},
   "outputs": [],
   "source": [
    "# Libraries\n",
    "import numpy as np\n",
    "import casadi as ca\n",
    "import matplotlib.pyplot as plt\n",
    "\n",
    "from matplotlib.animation import FuncAnimation, FFMpegWriter\n",
    "from IPython.display import HTML\n",
    "from mpl_toolkits.mplot3d import Axes3D\n",
    "import matplotlib.patches as patches\n",
    "import matplotlib as mpl\n",
    "import matplotlib.gridspec as gridspec\n",
    "\n",
    "# Files\n",
    "from vehicle import *\n",
    "from simulate import *\n",
    "from mpc import *\n",
    "from global_path_planning import *\n",
    "from obstacles import *\n",
    "from environments import *\n",
    "\n",
    "matplotlib.rcParams['animation.embed_limit'] = 2**128\n"
   ]
  },
  {
   "cell_type": "markdown",
   "metadata": {},
   "source": [
    "### Simulation Input Parameters"
   ]
  },
  {
   "cell_type": "code",
   "execution_count": null,
   "metadata": {},
   "outputs": [],
   "source": [
    "#### MPC Properties\n",
    "dt = 0.1                  # Time step [s]\n",
    "N = 10             # Time Horizon\n",
    "\n",
    "\n",
    "# Speed limit\n",
    "speed_limit = 10\n",
    "\n",
    "# Roll and Pitch limit\n",
    "angle_limit = 90\n",
    "\n",
    "# Acceleration limit\n",
    "acc_limit_x = 15\n",
    "acc_limit_y = 15\n",
    "acc_limit_z = 15\n",
    "\n",
    "       # Position Constraints [m]:    [x_min, x_max, y_min, y_max, z_min, z_max\t]\n",
    "vel_constraints = [-speed_limit, speed_limit, -speed_limit, speed_limit, -speed_limit, speed_limit]         # Velocity Constraints [m/s]:  [x_min, x_max, y_min, y_max, z_min, z_max]\n",
    "ang_constraints = [-angle_limit, angle_limit, -angle_limit, angle_limit, -360, 360]         # Angular Velocity Constraints [rad/s]:  [x_min, x_max, y_min, y_max, z_min, z_max]\n",
    "acc_constraints = [-acc_limit_x, acc_limit_x, -acc_limit_y, acc_limit_y, -acc_limit_z, acc_limit_z]  \n",
    "max_rad_per_s = 4000\n",
    "\n",
    "#### Obstacles\n",
    "static_cost = 20\n",
    "dynamic_cost = 80\n",
    "\n",
    "#### Waypoint Radius Threshold\n",
    "waypoint_radius = 3\n"
   ]
  },
  {
   "cell_type": "code",
   "execution_count": null,
   "metadata": {},
   "outputs": [],
   "source": [
    "#### Obstacle Definition and Initialization\n",
    "\n",
    "environment = EnvironmentChimney(static_cost, dynamic_cost)\n",
    "\n",
    "pos_constraints = environment.pos_constraints       # Position Constraints [m]:    [x_min, x_max, y_min, y_max, z_min, z_max\t]\n",
    "x_init = environment.start         # Initial State: [x, y, z, x_dot, y_dot, z_dot]\n",
    "x_target_last = environment.goal     # Target State: [x, y, z, x_dot, y_dot, z_dot]\n",
    "T = environment.simulation_time    \n",
    "\n",
    "## Initialize Obstacles\n",
    "obstacles = environment.obstacles"
   ]
  },
  {
   "cell_type": "code",
   "execution_count": null,
   "metadata": {},
   "outputs": [],
   "source": [
    "# Create Static World\n",
    "World = World_3D([pos_constraints[0], pos_constraints[1]], [pos_constraints[2], pos_constraints[3]], [pos_constraints[4], pos_constraints[5]], obstacles, obstacle_margin=1)\n",
    "\n",
    "\n",
    "# Run RRT* to find a path\n",
    "path_rrt = rrt_star(World, x_init[:3], x_target_last[:3], radius=10, max_iter=1000)\n",
    "\n",
    "path_rrt = path_rrt.get_subdivided_path(7)\n",
    "World.plot2d_xy(path_rrt, plot_moving_obstacles=True)\n",
    "World.plot2d_yz(path_rrt, plot_moving_obstacles=True)\n",
    "World.plot2d_xz(path_rrt, plot_moving_obstacles=True)\n"
   ]
  },
  {
   "cell_type": "code",
   "execution_count": null,
   "metadata": {},
   "outputs": [],
   "source": [
    "# %%capture\n",
    "# Setup Controller and Simulate\n",
    "vehicle = Quadrotor(dt)\n",
    "controller = lambda x_init, current_wp, last_input, last_plan : mpc_control(vehicle, N, x_init, current_wp, pos_constraints, vel_constraints, acc_constraints, ang_constraints, max_rad_per_s, last_plan, obstacles)\n",
    "states, inputs, plans, timesteps, target_state = simulate(dt, T, x_init, x_target_last, N, controller, World, path_rrt, waypoint_radius, num_states=12, num_inputs=4)"
   ]
  },
  {
   "cell_type": "code",
   "execution_count": null,
   "metadata": {
    "collapsed": false
   },
   "outputs": [],
   "source": [
    "#plot the path with 2 subplots\n",
    "\n",
    "fig = plt.figure(figsize=(13, 5))\n",
    "\n",
    "gs = gridspec.GridSpec(2, 2, figure=fig)\n",
    "\n",
    "ax1 = fig.add_subplot(gs[0, 0])\n",
    "ax2 = fig.add_subplot(gs[1, 0])\n",
    "ax3 = fig.add_subplot(gs[:, 1])\n",
    "\n",
    "World.plot2d_xy_ax(ax1, path_rrt, states)\n",
    "World.plot2d_yz_ax(ax2, path_rrt, states)\n",
    "World.plot2d_xz_ax(ax3, path_rrt, states)\n",
    "                   "
   ]
  },
  {
   "cell_type": "code",
   "execution_count": null,
   "metadata": {
    "collapsed": false
   },
   "outputs": [],
   "source": [
    "## Plot Simulation\n",
    "environment.reset()\n",
    "obstacles_plotting2 = environment.obstacles\n",
    "World_plotting2 = World_3D([pos_constraints[0], pos_constraints[1]], [pos_constraints[2], pos_constraints[3]], [pos_constraints[4], pos_constraints[5]], obstacles_plotting2, obstacle_margin=1)\n",
    "\n",
    "def update(frame):\n",
    "    global ax1, ax2, ax3\n",
    "    # Clear previous frame\n",
    "    ax1.cla()\n",
    "    ax2.cla()\n",
    "    ax3.cla()\n",
    "\n",
    "    # Plot Path for current state\n",
    "    ax1.scatter(plans[1][:, frame], plans[0][:, frame], c='g', s=5, label = \"Planned Trajectory\")\n",
    "    ax2.scatter(plans[1][:, frame], plans[2][:, frame], c='g', s=5, label = \"Planned Trajectory\")\n",
    "    ax3.scatter(plans[0][:, frame], plans[2][:, frame], c='g', s=5, label = \"Planned Trajectory\")\n",
    "    \n",
    "\n",
    "    # Plot current target\n",
    "    ax1.scatter(target_state[1][frame], target_state[0][frame], s=40, color='b', label = \"Current Target\")\n",
    "    ax2.scatter(target_state[1][frame], target_state[2][frame], s=40, color='b', label = \"Current Target\")\n",
    "    ax3.scatter(target_state[0][frame], target_state[2][frame], s=40, color='b', label = \"Current Target\")\n",
    "    \n",
    "    #plot end goal\n",
    "    ax1.scatter(x_target_last[1], x_target_last[0], s=40, color='black', marker='x', label = \"Goal\")\n",
    "    ax2.scatter(x_target_last[1], x_target_last[2], s=40, color='black', marker='x', label = \"Goal\")\n",
    "    ax3.scatter(x_target_last[0], x_target_last[2], s=40, color='black', marker='x', label = \"Goal\")\n",
    "    \n",
    "    #plot attitude of drone as thin red line\n",
    "    linelength = 1\n",
    "    linewidth = 3.5\n",
    "    \n",
    "    #draw a rectangle rotated correctly\n",
    "    #r2 = patches.Rectangle((0,0), 20, 40, color=\"red\",  alpha=0.50)\n",
    "    rectsize = linelength * .75\n",
    "    rect = patches.Rectangle((states[1][frame] - rectsize/2, states[0][frame] - rectsize/2), rectsize, rectsize, fill=False, edgecolor='red', linewidth=1.6, label = 'Drone')\n",
    "    t = mpl.transforms.Affine2D().rotate_around(states[1][frame], states[0][frame], states[5][frame]) + ax1.transData\n",
    "    rect.set_transform(t)\n",
    "    ax1.add_patch(rect)\n",
    "    \n",
    "    \n",
    "    c = np.cos(states[3][frame])\n",
    "    s = np.sin(states[3][frame])\n",
    "    ax2.plot([states[1][frame] - linelength * c, states[1][frame] + linelength * c], [states[2][frame] - linelength * s, states[2][frame] + linelength * s], color='red', linewidth=linewidth, label = 'Drone')\n",
    "    c = np.cos(-states[4][frame])\n",
    "    s = np.sin(-states[4][frame])\n",
    "    ax3.plot([states[0][frame] - linelength * c, states[0][frame] + linelength * c], [states[2][frame] - linelength * s, states[2][frame] + linelength * s], color='red', linewidth=linewidth, label = 'Drone')\n",
    "    #ax1.scatter(states[1][frame], states[0][frame], s=40, color='red', label = \"Drone\")    \n",
    "    #ax2.scatter(states[1][frame], states[2][frame], s=40, color='red', label = \"Drone\")\n",
    "    #ax3.scatter(states[0][frame], states[2][frame], s=40, color='red', label = \"Drone\")\n",
    "    \n",
    "    \n",
    "    World_plotting2.update(dt)\n",
    "\n",
    "    # Plot Environment\n",
    "    World_plotting2.plot2d_xy_ax(ax1, plot_moving_obstacles=True, show_legend=False)    \n",
    "    World_plotting2.plot2d_yz_ax(ax2, plot_moving_obstacles=True, show_legend=False)\n",
    "    World_plotting2.plot2d_xz_ax(ax3, plot_moving_obstacles=True, show_legend=True)\n",
    "\n",
    "    fig.suptitle(f'Time Step {frame + 1}/{len(states[1])}')\n",
    "\n",
    "\n",
    "\n",
    "\n",
    "# Create the animation\n",
    "fig = plt.figure(figsize=(13, 5))\n",
    "\n",
    "gs = gridspec.GridSpec(2, 2, figure=fig)\n",
    "\n",
    "ax1 = fig.add_subplot(gs[0, 0])\n",
    "ax2 = fig.add_subplot(gs[1, 0])\n",
    "ax3 = fig.add_subplot(gs[:, 1])\n",
    "\n",
    "#update(0)\n",
    "#plt.show()\n",
    "\n",
    "ani = FuncAnimation(fig, update, frames=len(states[1]) - 1, interval=int(dt*1000))\n",
    "# Display the animation within the Jupyter Notebook using HTML\n",
    "#HTML(ani.to_jshtml())\n",
    "\n",
    "ani.save('animation.mp4', writer='ffmpeg')\n"
   ]
  },
  {
   "cell_type": "code",
   "execution_count": null,
   "metadata": {
    "collapsed": false
   },
   "outputs": [],
   "source": []
  },
  {
   "cell_type": "code",
   "execution_count": null,
   "metadata": {
    "collapsed": false
   },
   "outputs": [],
   "source": [
    "#Evaluation metrics\n",
    "from evaluation_metrics import *\n",
    "\n",
    "print(\"states3-6 shape\",states[3:6].T.shape)\n",
    "# 1. Trajectory Smoothness\n",
    "plot_trajectory_smoothness(velocities=states[3:6].T,\n",
    "                           orientation_rates=states[6:9].T,\n",
    "                           num_timesteps=len(timesteps),\n",
    "                           duration_sec=T,\n",
    "                           dt=dt)\n",
    "# 2. Control Effort\n",
    "print(\"inputs T shape:\",inputs.T.shape)\n",
    "print(\"inputs0\",inputs.T[0])\n",
    "plot_control_effort(control_inputs=inputs.T,\n",
    "                    duration_sec=T,\n",
    "                    num_timesteps =len(timesteps))"
   ]
  }
 ],
 "metadata": {
  "kernelspec": {
   "display_name": "TF2",
   "language": "python",
   "name": "python3"
  },
  "language_info": {
   "codemirror_mode": {
    "name": "ipython",
    "version": 3
   },
   "file_extension": ".py",
   "mimetype": "text/x-python",
   "name": "python",
   "nbconvert_exporter": "python",
   "pygments_lexer": "ipython3",
   "version": "3.9.18"
  }
 },
 "nbformat": 4,
 "nbformat_minor": 2
}
