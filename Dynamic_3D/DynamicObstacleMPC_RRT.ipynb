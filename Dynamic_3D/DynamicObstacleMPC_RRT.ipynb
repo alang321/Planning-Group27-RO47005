{
 "cells": [
  {
   "cell_type": "markdown",
   "metadata": {},
   "source": [
    "### Import"
   ]
  },
  {
   "cell_type": "code",
   "execution_count": null,
   "metadata": {},
   "outputs": [],
   "source": [
    "# Libraries\n",
    "import numpy as np\n",
    "import casadi as ca\n",
    "import matplotlib.pyplot as plt\n",
    "from matplotlib.animation import FuncAnimation, FFMpegWriter\n",
    "from IPython.display import HTML\n",
    "from mpl_toolkits.mplot3d import Axes3D\n",
    "import matplotlib.patches as patches\n",
    "\n",
    "# Files\n",
    "from vehicle import *\n",
    "from simulate import *\n",
    "from mpc import *\n",
    "from global_path_planning import *\n",
    "from obstacles import *\n"
   ]
  },
  {
   "cell_type": "markdown",
   "metadata": {},
   "source": [
    "### Simulation Input Parameters"
   ]
  },
  {
   "cell_type": "code",
   "execution_count": null,
   "metadata": {},
   "outputs": [],
   "source": [
    "#### MPC Properties\n",
    "dt = 0.1                  # Time step [s]\n",
    "N = 25                # Time Horizon\n",
    "\n",
    "####  Simulation/Problem Parameters\n",
    "pos_constraints = [0, 20, 0, 60, 0, 20]         # Position Constraints [m]:    [x_min, x_max, y_min, y_max, z_min, z_max\t]\n",
    "x_init = [10, 2, 2, 0, 0, 0, 0, 0, 0, 0, 0, 0]          # Initial State: [x, y, z, x_dot, y_dot, z_dot]\n",
    "x_target_last = [10, 48, 18, 0, 0, 0, 0, 0, 0, 0, 0, 0]      # Target State: [x, y, z, x_dot, y_dot, z_dot]\n",
    "T = 20                             # Simulation time [s]\n",
    "\n",
    "\n",
    "# Speed limit\n",
    "speed_limit = 10\n",
    "\n",
    "# Roll and Pitch limit\n",
    "angle_limit = 90\n",
    "\n",
    "# Acceleration limit\n",
    "acc_limit_x = 15\n",
    "acc_limit_y = 15\n",
    "acc_limit_z = 15\n",
    "\n",
    "       # Position Constraints [m]:    [x_min, x_max, y_min, y_max, z_min, z_max\t]\n",
    "vel_constraints = [-speed_limit, speed_limit, -speed_limit, speed_limit, -speed_limit, speed_limit]         # Velocity Constraints [m/s]:  [x_min, x_max, y_min, y_max, z_min, z_max]\n",
    "ang_constraints = [-angle_limit, angle_limit, -angle_limit, angle_limit, -360, 360]         # Angular Velocity Constraints [rad/s]:  [x_min, x_max, y_min, y_max, z_min, z_max]\n",
    "acc_constraints = [-acc_limit_x, acc_limit_x, -acc_limit_y, acc_limit_y, -acc_limit_z, acc_limit_z]  \n",
    "max_rad_per_s = 4000\n",
    "\n",
    "#### Obstacles\n",
    "static_cost = 5\n",
    "dynamic_cost = 35\n",
    "\n",
    "#### Waypoint Radius Threshold\n",
    "waypoint_radius = 3\n"
   ]
  },
  {
   "cell_type": "code",
   "execution_count": null,
   "metadata": {},
   "outputs": [],
   "source": [
    "#### Obstacle Definition and Initialization\n",
    "\n",
    "## Define Obstacles\n",
    "# V_obstacles = [[10, 20, 4], [18, 30, 3]]\n",
    "V_obstacles = [[10, 30, 2], [17, 23, 3], [7, 20, 4], [14, 37, 3], [1, 28, 4]]\n",
    "V_move_obstacles = [[5, 30, 1, 0, 1.5, 8], [12, 45, 0, -1, 2, 30], [3, 15, 1, 0, 3, 8]] # [center_x, center_y, vel_x, vel_y, radius]\n",
    "#V_move_obstacles = []\n",
    "H_obstacles = [[10, 10, 3]]         # [center_y, center_z, radius]\n",
    "H_move_obstacles = []  # [center_y, center_z, vel_y, vel_z, radius]\n",
    "\n",
    "## Initialize Obstacles\n",
    "obstacles = init_obstacles(V_obstacles, V_move_obstacles, H_obstacles, H_move_obstacles, static_cost, dynamic_cost)"
   ]
  },
  {
   "cell_type": "code",
   "execution_count": null,
   "metadata": {},
   "outputs": [],
   "source": [
    "# Create Static World\n",
    "World = World_3D([pos_constraints[0], pos_constraints[1]], [pos_constraints[2], pos_constraints[3]], [pos_constraints[4], pos_constraints[5]], obstacles, obstacle_margin=1)\n",
    "World.plot3d()\n",
    "\n",
    "# Run RRT* to find a path\n",
    "path_rrt = rrt_star(World, x_init[:3], x_target_last[:3], radius=25, max_iter=500)\n",
    "World.plot3d(path_rrt, plot_moving_obstacles=True)\n",
    "World.plot2d_xy(path_rrt, plot_moving_obstacles=True)\n",
    "\n",
    "path_rrt = path_rrt.get_subdivided_path(7)\n",
    "World.plot2d_xy(path_rrt, plot_moving_obstacles=True)\n",
    "World.plot2d_yz(path_rrt, plot_moving_obstacles=True)\n"
   ]
  },
  {
   "cell_type": "code",
   "execution_count": null,
   "metadata": {},
   "outputs": [],
   "source": [
    "# %%capture\n",
    "# Setup Controller and Simulate\n",
    "vehicle = Quadrotor(dt)\n",
    "controller = lambda x_init, current_wp, last_input, last_plan : mpc_control(vehicle, N, x_init, current_wp, pos_constraints, vel_constraints, acc_constraints, ang_constraints, max_rad_per_s, last_plan, obstacles)\n",
    "states, inputs, plans, timesteps, target_state = simulate(dt, T, x_init, x_target_last, N, controller, World, path_rrt, waypoint_radius, num_states=12, num_inputs=4)"
   ]
  },
  {
   "cell_type": "code",
   "execution_count": null,
   "outputs": [],
   "source": [
    "#plot the path with 2 subplots\n",
    "\n",
    "fig, (ax1, ax2) = plt.subplots(2, 1, figsize=(15, 5))\n",
    "\n",
    "World.plot2d_xy_ax(ax1, path_rrt, states)\n",
    "World.plot2d_yz_ax(ax2, path_rrt, states)\n",
    "                   "
   ],
   "metadata": {
    "collapsed": false
   }
  },
  {
   "cell_type": "code",
   "execution_count": null,
   "outputs": [],
   "source": [
    "## Plot Simulation\n",
    "obstacles_plotting = init_obstacles(V_obstacles, V_move_obstacles, H_obstacles, H_move_obstacles, static_cost, dynamic_cost)\n",
    "World_plotting = World_3D([pos_constraints[0], pos_constraints[1]], [pos_constraints[2], pos_constraints[3]], [pos_constraints[4], pos_constraints[5]], obstacles_plotting, obstacle_margin=1)\n",
    "\n",
    "def update(frame):\n",
    "    global ax\n",
    "    # Clear previous frame\n",
    "    ax.cla()\n",
    "\n",
    "    # Plot Path for current state\n",
    "    ax.scatter(plans[0][:, frame], plans[1][:, frame], plans[2][:, frame], c='g', s=20, label = \"Planned Trajectory\")\n",
    "\n",
    "    # Plot current state\n",
    "    ax.scatter(target_state[0][frame], target_state[1][frame], target_state[2][frame], s=40, color='b', label = \"Target Point\")\n",
    "\n",
    "    ax.scatter(states[0][frame], states[1][frame], states[2][frame], s=40, color='red', label = \"Drone\")\n",
    "    \n",
    "    World_plotting.update(dt)\n",
    "\n",
    "    # Plot Environment\n",
    "    World_plotting.plot3d_ax(ax, plot_moving_obstacles=True)\n",
    "\n",
    "    ax.legend()\n",
    "    ax.set_title(f'Time Step {frame + 1}/{len(states[1])}')  # Set title for each frame\n",
    "\n",
    "\n",
    "\n",
    "\n",
    "# Create the animation\n",
    "fig = plt.figure()\n",
    "ax = fig.add_subplot(111, projection='3d')\n",
    "ani = FuncAnimation(fig, update, frames=len(states[1]) - 1, interval=100)\n",
    "# Display the animation within the Jupyter Notebook using HTML\n",
    "HTML(ani.to_jshtml())\n"
   ],
   "metadata": {
    "collapsed": false
   }
  },
  {
   "cell_type": "code",
   "execution_count": null,
   "outputs": [],
   "source": [
    "## Plot Simulation\n",
    "obstacles_plotting2 = init_obstacles(V_obstacles, V_move_obstacles, H_obstacles, H_move_obstacles, static_cost, dynamic_cost)\n",
    "World_plotting2 = World_3D([pos_constraints[0], pos_constraints[1]], [pos_constraints[2], pos_constraints[3]], [pos_constraints[4], pos_constraints[5]], obstacles_plotting2, obstacle_margin=1)\n",
    "\n",
    "def update(frame):\n",
    "    global ax1, ax2\n",
    "    # Clear previous frame\n",
    "    ax1.cla()\n",
    "    ax2.cla()\n",
    "\n",
    "    # Plot Path for current state\n",
    "    ax1.scatter(plans[1][:, frame], plans[0][:, frame], c='g', s=20, label = \"Planned Trajectory\")\n",
    "    ax2.scatter(plans[1][:, frame], plans[2][:, frame], c='g', s=20, label = \"Planned Trajectory\")\n",
    "\n",
    "    # Plot current state\n",
    "    ax1.scatter(target_state[1][frame], target_state[0][frame], s=40, color='b', label = \"Target Point\")\n",
    "    ax2.scatter(target_state[1][frame], target_state[2][frame], s=40, color='b', label = \"Target Point\")\n",
    "\n",
    "    ax1.scatter(states[1][frame], states[0][frame], s=40, color='red', label = \"Drone\")    \n",
    "    ax2.scatter(states[1][frame], states[2][frame], s=40, color='red', label = \"Drone\")\n",
    "    \n",
    "    World_plotting2.update(dt)\n",
    "\n",
    "    # Plot Environment\n",
    "    World_plotting2.plot2d_xy_ax(ax1, plot_moving_obstacles=True)    \n",
    "    World_plotting2.plot2d_yz_ax(ax2, plot_moving_obstacles=True)\n",
    "\n",
    "    ax1.legend()\n",
    "    ax2.legend()\n",
    "    ax1.set_title(f'Time Step {frame + 1}/{len(states[1])}')  # Set title for each frame\n",
    "\n",
    "\n",
    "\n",
    "\n",
    "# Create the animation\n",
    "fig, (ax1, ax2) = plt.subplots(2, 1, figsize=(15, 5))\n",
    "ani = FuncAnimation(fig, update, frames=len(states[1]) - 1, interval=100)\n",
    "# Display the animation within the Jupyter Notebook using HTML\n",
    "HTML(ani.to_jshtml())\n"
   ],
   "metadata": {
    "collapsed": false
   }
  },
  {
   "cell_type": "code",
   "execution_count": null,
   "outputs": [],
   "source": [
    "#Evaluation metrics\n",
    "from evaluation_metrics import *\n",
    "\n",
    "print(\"states3-6 shape\",states[3:6].T.shape)\n",
    "# 1. Trajectory Smoothness\n",
    "plot_trajectory_smoothness(velocities=states[3:6].T,\n",
    "                           orientation_rates=states[6:9].T,\n",
    "                           num_timesteps=len(timesteps),\n",
    "                           duration_sec=T,\n",
    "                           dt=dt)\n",
    "# 2. Control Effort\n",
    "print(\"inputs T shape:\",inputs.T.shape)\n",
    "print(\"inputs0\",inputs.T[0])\n",
    "plot_control_effort(control_inputs=inputs.T,\n",
    "                    duration_sec=T,\n",
    "                    num_timesteps =len(timesteps))"
   ],
   "metadata": {
    "collapsed": false
   }
  }
 ],
 "metadata": {
  "kernelspec": {
   "display_name": "TF2",
   "language": "python",
   "name": "python3"
  },
  "language_info": {
   "codemirror_mode": {
    "name": "ipython",
    "version": 3
   },
   "file_extension": ".py",
   "mimetype": "text/x-python",
   "name": "python",
   "nbconvert_exporter": "python",
   "pygments_lexer": "ipython3",
   "version": "3.9.18"
  }
 },
 "nbformat": 4,
 "nbformat_minor": 2
}
