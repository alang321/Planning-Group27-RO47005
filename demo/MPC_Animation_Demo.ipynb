{
 "cells": [
  {
   "cell_type": "code",
   "execution_count": null,
   "outputs": [],
   "source": [
    "import numpy as np\n",
    "import casadi as ca\n",
    "from tqdm import tqdm\n",
    "import matplotlib.pyplot as plt\n",
    "from matplotlib.animation import FuncAnimation\n",
    "import numpy as np\n",
    "from IPython.display import HTML\n",
    "from MPC_Animation_Demo_Functions import *\n",
    "\n",
    "# Define Problem\n",
    "dt = 0.1\n",
    "x_init = np.array([0, 0, 0, 0])\n",
    "x_target = np.array([50, 50, 0, 0])\n",
    "\n",
    "# Constraints \n",
    "pos_constraints = [0, 50, 0, 50]         # [x_min, x_mplt, y_min, y_mplt]\n",
    "vel_constraints = [-5, 5, -5, 5]         # [x_min, x_mplt, y_min, y_mplt]\n",
    "acc_constraints = [-5, 5, -5, 5]         # [x_min, x_mplt, y_min, y_mplt]\n",
    "\n",
    "# Time Horizon\n",
    "N = 10\n",
    "T = 120\n",
    "\n",
    "# List of obstacles : obstacle = [center_x, center_y, radius]\n",
    "obstacles = [[20, 40, 2], [35, 30, 3], [10, 10, 2], [25, 15, 10], [20, 30, 4], [40, 40, 5], [29, 39, 1]]\n",
    "\n",
    "# Simulate the result\n",
    "vehicle = vehicle_SS(dt)\n",
    "\n",
    "# Setup controller function\n",
    "controller = lambda x_init : mpc_control(vehicle, N, x_init, x_target, pos_constraints, vel_constraints, acc_constraints, obstacles)\n"
   ],
   "metadata": {
    "collapsed": false
   }
  },
  {
   "cell_type": "code",
   "execution_count": null,
   "outputs": [],
   "source": [
    "#get global a_star path and visualize\n",
    "occupany_grid = OccupancyGrid(1.2, [0, 0], obstacles, [50, 50], obstacle_margin=.4)\n",
    "occupany_grid.plot()\n",
    "\n",
    "start = [0, 0]\n",
    "goal = [50, 50]\n",
    "\n",
    "path = a_star(occupany_grid, start, goal)\n",
    "print(path)\n",
    "\n",
    "if path is not None:\n",
    "    plot_path(path, obstacles, occupany_grid, start, goal)"
   ],
   "metadata": {
    "collapsed": false
   }
  },
  {
   "cell_type": "markdown",
   "source": [],
   "metadata": {
    "collapsed": false
   }
  },
  {
   "cell_type": "code",
   "execution_count": null,
   "metadata": {},
   "outputs": [],
   "source": [
    "%%capture\n",
    "# Simulate drone\n",
    "states, inputs, plans, timesteps = simulate(dt, T, x_init, N, controller, num_states=4, num_inputs=2)"
   ]
  },
  {
   "cell_type": "code",
   "execution_count": null,
   "metadata": {},
   "outputs": [],
   "source": [
    "def update(frame):\n",
    "    # Clear previous frame\n",
    "    plt.cla()\n",
    "    \n",
    "    # Plot Path for current state\n",
    "    plt.scatter(plans[0][:, frame], plans[1][:, frame], c='g', s=20, label = \"Planned Trajectory\")\n",
    "\n",
    "    # Plot current state\n",
    "    drone = plt.Circle((states[0][frame], states[1][frame]), 0.7, color='r', fill=True, label = \"Drone\")\n",
    "    plt.gca().add_patch(drone)\n",
    "    \n",
    "    for obstacle in obstacles:\n",
    "        circle = plt.Circle((obstacle[0], obstacle[1]), obstacle[2], color='k', fill=False)\n",
    "        plt.gca().add_patch(circle) \n",
    "\n",
    "    plt.legend()\n",
    "    plt.title(f'Time Step {frame + 1}/{len(states[1])}')  # Set title for each frame\n",
    "    plt.xlabel('X-axis')\n",
    "    plt.ylabel('Y-axis')\n",
    "    plt.xlim(0, 50)\n",
    "    plt.ylim(0, 50)\n",
    "    plt.grid()\n"
   ]
  },
  {
   "cell_type": "code",
   "execution_count": null,
   "metadata": {},
   "outputs": [],
   "source": [
    "# Create the animation\n",
    "fig = plt.figure()\n",
    "ani = FuncAnimation(fig, update, frames=np.shape(states)[1]-1, interval=100)\n",
    "\n",
    "# Display the animation within the Jupyter Notebook using HTML\n",
    "HTML(ani.to_jshtml())"
   ]
  },
  {
   "cell_type": "code",
   "execution_count": null,
   "metadata": {},
   "outputs": [],
   "source": []
  }
 ],
 "metadata": {
  "kernelspec": {
   "display_name": "TF2",
   "language": "python",
   "name": "python3"
  },
  "language_info": {
   "codemirror_mode": {
    "name": "ipython",
    "version": 3
   },
   "file_extension": ".py",
   "mimetype": "text/x-python",
   "name": "python",
   "nbconvert_exporter": "python",
   "pygments_lexer": "ipython3",
   "version": "3.9.18"
  }
 },
 "nbformat": 4,
 "nbformat_minor": 2
}
